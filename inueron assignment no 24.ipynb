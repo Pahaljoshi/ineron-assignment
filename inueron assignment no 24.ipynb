{
 "cells": [
  {
   "cell_type": "markdown",
   "metadata": {},
   "source": [
    "# Assignment no .24\n",
    "\n",
    "#1. What is the relationship between def statements and lambda expressions ?\n",
    "First, we will use the def keyword to create a function that returns the sum of two numbers, and then we will write it as a lambda expression: As we can see, if we want our function to have multiple parameters in a lambda expression, we would just separate those parameters by a comma\n",
    "\n",
    "\n",
    "#2. What is the benefit of lambda?\n",
    "Using Stream API's and lambda expression we can achieve higher efficiency (parallel execution) in case of bulk operations on collections..It is a one line code and easy to access\n",
    "\n",
    "\n",
    "#3. Compare and contrast map, filter, and reduce.\n",
    "Map creates a new array by transforming every element in an array, individually. filter creates a new array by removing elements that don't belong. reduce , on the other hand, takes all of the elements in an array and reduces them into a single value. Just like map and filter , reduce is defined on Array\n",
    "\n",
    "\n",
    "#4. What are function annotations, and how are they used?\n",
    "Function annotations are completely optional both for parameters and return value.Function annotations are a Python 3 feature that lets you add arbitrary metadata to function arguments and return value. They were part of the original Python 3.0 spec. \n",
    "\n",
    "\n",
    "#5. What are recursive functions, and how are they used?\n",
    "Recursion is made for solving problems that can be broken down into smaller, repetitive problems. It is especially good for working on things that have many possible branches and are too complex for an iterative approach. One good example of this would be searching through a file system\n",
    "\n",
    "\n",
    "#6. What are some general design guidelines for coding functions?\n",
    ".Limited use of globals\n",
    "\n",
    ".Standard headers for different modules\n",
    "\n",
    ".Naming conventions for local variables, global variables, \n",
    "constants and functions\n",
    "\n",
    ".Indentation\n",
    "\n",
    ".Error return values and exception handling conventions\n",
    "\n",
    ".Avoid using a coding style that is too difficult to understand\n",
    "\n",
    ".Avoid using an identifier for multiple purposes\n",
    "\n",
    ".Code should be well documented\n",
    "\n",
    ".Length of functions should not be very large\n",
    "\n",
    ".Try not to use GOTO statement\n",
    "\n",
    "\n",
    "#7. Name three or more ways that functions can communicate results to a caller.\n",
    "The function's name\n",
    "arguments.callee\n",
    "An in-scope variable that refers to the function"
   ]
  }
 ],
 "metadata": {
  "kernelspec": {
   "display_name": "Python 3",
   "language": "python",
   "name": "python3"
  },
  "language_info": {
   "codemirror_mode": {
    "name": "ipython",
    "version": 3
   },
   "file_extension": ".py",
   "mimetype": "text/x-python",
   "name": "python",
   "nbconvert_exporter": "python",
   "pygments_lexer": "ipython3",
   "version": "3.8.5"
  }
 },
 "nbformat": 4,
 "nbformat_minor": 4
}
