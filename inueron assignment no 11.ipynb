{
 "cells": [
  {
   "cell_type": "markdown",
   "metadata": {},
   "source": [
    "# Assignment no .11\n",
    "\n",
    "#1. Create an assert statement that throws an AssertionError if the variable spam is a negative integer.\n",
    "\n",
    "assert spam < 0 , The spam variable is a negative interger\n",
    "\n",
    "#2. Write an assert statement that triggers an AssertionError if the variables eggs and bacon contain strings that are the same as each other, even if their cases are different (that is, 'hello' and 'hello' are considered the same, and 'goodbye' and 'GOODbye' are also considered the same).\n",
    "\n",
    "eggs.lower() != bacon.lower()\n",
    "eggs.upper() != bacon.upper()\n",
    "\n",
    "\n",
    "#3. Create an assert statement that throws an AssertionError every time.\n",
    "\n",
    "assert False\n",
    "\n",
    "#4. What are the two lines that must be present in your software in order to call logging.debug()?\n",
    "\n",
    "import logging\n",
    "logging.basicConfig(level=logging.DEBUG, format=' %(asctime)s -%(levelname)s -  %(message)s')\n",
    "\n",
    "#5. What are the two lines that your program must have in order to have logging.debug() send a logging message to a file named programLog.txt?\n",
    "\n",
    "import logging\n",
    "logging.basicConfig(filename='programLog.txt', level=logging.DEBUG,format=' %(asctime)s -  %(levelname)s -  %(message)s')\n",
    "\n",
    "#6. What are the five levels of logging?\n",
    "\n",
    "DEBUG\n",
    "INFO \n",
    "WARNING\n",
    "ERROR\n",
    "CRITICAL\n",
    "\n",
    "#7. What line of code would you add to your software to disable all logging messages?\n",
    "\n",
    "logging.disable(logging.CRITICAL)\n",
    "\n",
    "\n",
    "#8.Why is using logging messages better than using print() to display the same message?\n",
    "\n",
    "A logger is an object that records events. You use it like you would use the print function, but it is much more powerful than print . Every logging event has a message, but also records other information like line number and module name.\n",
    "\n",
    "#9. What are the differences between the Step Over, Step In, and Step Out buttons in the debugger?\n",
    "\n",
    "The Step In button will move the debugger into a function call. \n",
    "The Step Over button will quickly execute the function call without stepping into it. \n",
    "The Step Out button will quickly execute the rest of the code until it steps out of the function it currently is in.\n",
    "\n",
    "#10.After you click Continue, when will the debugger stop ?\n",
    "\n",
    "The end of the program or with a breakpoint.\n",
    "\n",
    "#11. What is the concept of a breakpoint?\n",
    "\n",
    "A breakpoint is an intentional stopping or pausing place in a program, put in place for debugging purposes.\n"
   ]
  }
 ],
 "metadata": {
  "kernelspec": {
   "display_name": "Python 3",
   "language": "python",
   "name": "python3"
  },
  "language_info": {
   "codemirror_mode": {
    "name": "ipython",
    "version": 3
   },
   "file_extension": ".py",
   "mimetype": "text/x-python",
   "name": "python",
   "nbconvert_exporter": "python",
   "pygments_lexer": "ipython3",
   "version": "3.8.5"
  }
 },
 "nbformat": 4,
 "nbformat_minor": 4
}
