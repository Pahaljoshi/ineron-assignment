{
 "cells": [
  {
   "cell_type": "markdown",
   "metadata": {},
   "source": [
    "# Assignment no .25\n",
    "\n",
    "\n",
    "#1) . What is the difference between enclosing a list comprehension in square brackets and parentheses?\n",
    "() is a tuple: An immutable collection of values, usually (but not necessarily) of different types. [] is a list: A mutable collection of values, usually (but not necessarily) of the same type\n",
    "\n",
    "\n",
    "#2) What is the relationship between generators and iterators?\n",
    "An iterator does not make use of local variables, all it needs is iterable to iterate on. A generator may have any number of 'yield' statements. You can implement your own iterator using a python class, a generator does not need a class in python.\n",
    "\n",
    "\n",
    "\n",
    "#3) What are the signs that a function is a generator function?\n",
    "If a function contains at least one yield statement (it may contain other yield or return statements), it becomes a generator function.\n",
    "\n",
    "\n",
    "#4) What is the purpose of a yield statement?\n",
    "The yield statement suspends function's execution and sends a value back to the caller, but retains enough state to enable function to resume where it is left off. When resumed, the function continues execution immediately after the last yield run\n",
    "\n",
    "\n",
    "\n",
    "#5) What is the relationship between map calls and list comprehensions? Make a comparison and contrast between the two.\n",
    "List comprehension is more concise and easier to read as compared to map. List comprehension are used when a list of results is required as map only returns a map object and does not return any list. Map is faster in case of calling an already defined function.\n"
   ]
  }
 ],
 "metadata": {
  "kernelspec": {
   "display_name": "Python 3",
   "language": "python",
   "name": "python3"
  },
  "language_info": {
   "codemirror_mode": {
    "name": "ipython",
    "version": 3
   },
   "file_extension": ".py",
   "mimetype": "text/x-python",
   "name": "python",
   "nbconvert_exporter": "python",
   "pygments_lexer": "ipython3",
   "version": "3.8.5"
  }
 },
 "nbformat": 4,
 "nbformat_minor": 4
}
