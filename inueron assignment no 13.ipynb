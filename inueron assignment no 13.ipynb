{
 "cells": [
  {
   "cell_type": "markdown",
   "metadata": {},
   "source": [
    "# Assignment no .13\n",
    "\n",
    "#1. What advantages do Excel spreadsheets have over CSV spreadsheets?\n",
    "\n",
    "CSV is generally faster and less complicated when compared to Excel. Files saved in Excel format cannot be edited by text editors and also Excel file can be password protected. Files saved in CSV format can be edited by text editors and also CSV file cannot be password protected.\n",
    "\n",
    "#2.What do you pass to csv.reader() and csv.writer() to create reader and writer objects?\n",
    "\n",
    "we can pass a file object obtained from a call to open()\n",
    "\n",
    "#3. What modes do File objects for reader and writer objects need to be opened in?\n",
    "\n",
    "read-binary ('rb') for reader objects and write-binary ('wb') for writer objects\n",
    "\n",
    "#4. What method takes a list argument and writes it to a CSV file?\n",
    "\n",
    "writerow() method\n",
    "\n",
    "#5. What do the keyword arguments delimiter and line terminator do?\n",
    "\n",
    "delimiter changes the strings used to spread cells in a row and lineterminator changes the string used to separate rows.\n",
    "\n",
    "#6. What function takes a string of JSON data and returns a Python data structure?\n",
    "\n",
    "json.loads()\n",
    "\n",
    "#7. What function takes a Python data structure and returns a string of JSON data?\n",
    "\n",
    "json.dumps()"
   ]
  }
 ],
 "metadata": {
  "kernelspec": {
   "display_name": "Python 3",
   "language": "python",
   "name": "python3"
  },
  "language_info": {
   "codemirror_mode": {
    "name": "ipython",
    "version": 3
   },
   "file_extension": ".py",
   "mimetype": "text/x-python",
   "name": "python",
   "nbconvert_exporter": "python",
   "pygments_lexer": "ipython3",
   "version": "3.8.5"
  }
 },
 "nbformat": 4,
 "nbformat_minor": 4
}
