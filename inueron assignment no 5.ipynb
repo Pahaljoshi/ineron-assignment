{
 "cells": [
  {
   "cell_type": "markdown",
   "metadata": {},
   "source": [
    "# Assignment no. 5\n",
    "\n",
    "#1. What does an empty dictionary's code look like?\n",
    "\n",
    "Two curly brackets {}\n",
    "\n",
    "\n",
    "#2. What is the value of a dictionary value with the key 'foo' and the value 42?\n",
    "\n",
    "{'foo':42}\n",
    "\n",
    "#3. What is the most significant distinction between a dictionary and a list?\n",
    "\n",
    "Dictinonary stored in unordered while list is stored in ordered \n",
    "\n",
    "\n",
    "#4. What happens if you try to access spam['foo'] if spam is {'bar': 100}?\n",
    "\n",
    "It show error Keyerror\n",
    "\n",
    "#5. If a dictionary is stored in spam, what is the difference between the expressions 'cat' in spam and 'cat' in spam.keys()?\n",
    "\n",
    "There is no diffrence between both the expression (in) opreater  check the value exists as a key in the dictionary \n",
    "\n",
    "#6. If a dictionary is stored in spam, what is the difference between the expressions 'cat' in spam and 'cat' in spam.values()?\n",
    "\n",
    "Expression 'cat' in spam check that key ('cat') exists in dictionary while expression 'cat' in spam.values() check value ('cat') is exists one of the 'keys' in dictionary\n",
    "\n",
    "\n",
    "#7. What is a shortcut for the following code?\n",
    "if 'color' not in spam:\n",
    "spam['color'] = 'black'\n",
    "\n",
    "spam.setdefault('color', 'black')\n",
    "\n",
    "#8. How do you \"pretty print\" dictionary values using which module and function?\n",
    "\n",
    "pprint.pprint()"
   ]
  }
 ],
 "metadata": {
  "kernelspec": {
   "display_name": "Python 3",
   "language": "python",
   "name": "python3"
  },
  "language_info": {
   "codemirror_mode": {
    "name": "ipython",
    "version": 3
   },
   "file_extension": ".py",
   "mimetype": "text/x-python",
   "name": "python",
   "nbconvert_exporter": "python",
   "pygments_lexer": "ipython3",
   "version": "3.8.5"
  }
 },
 "nbformat": 4,
 "nbformat_minor": 4
}
