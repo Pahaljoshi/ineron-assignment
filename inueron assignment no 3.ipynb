{
 "cells": [
  {
   "cell_type": "markdown",
   "metadata": {},
   "source": [
    "# Assignment  No - 3\n",
    "#1. Why are functions advantageous to have in your programs?\n",
    "Functions reduce the need for duplicate code. This makes programs shorter, easier to read, and easier to update.\n",
    "\n",
    "#2. When does the code in a function run: when it’s specified or when it’s called?\n",
    "The code in a function run when we call the function , not when the function is specified\n",
    "\n",
    "#3. What statement creates a function?\n",
    "The def name () statement creates a function.\n",
    "\n",
    "#4. What is the difference between a function and a function call?\n",
    "A function have def statement.\n",
    "The function call evaluates to the function's return value.\n",
    "\n",
    "#5. How many global scopes are there in a Python program? How many local scopes?\n",
    "There is one global scope, and a local scope is created whenever a function is called.\n",
    "\n",
    "#6. What happens to variables in a local scope when the function call returns?\n",
    "Local scope is destroyed, and all the variables in it are forgotten.\n",
    "\n",
    "#7. What is the concept of a return value? Is it possible to have a return value in an expression?\n",
    "A return is a value that a function returns to the calling script or function when it completes its task. Like any value, a return value can be used as part of an expression.\n",
    "\n",
    "#8. If a function does not have a return statement, what is the return value of a call to that function?\n",
    "A  function without an explicit return statement returns None . In the case of no arguments and no return value\n",
    "\n",
    "\n",
    "#9. How do you make a function variable refer to the global variable?\n",
    "If you want to refer to a global variable in a function, you can use the global keyword to declare which variables are global.\n",
    "\n",
    "#10. What is the data type of None?\n",
    "The data type of None is NoneType.\n",
    "\n",
    "#11. What does the sentence import are all your pets name deric do?\n",
    "That import statement imports a module named are all your pets name deric. (This isn't a real Python module, by the way.)\n",
    "\n",
    "#12. If you had a bacon() feature in a spam module, what would you call it after importing spam?\n",
    "spam.bacon().\n",
    "\n",
    "#13. What can you do to save a programme from crashing if it encounters an error?\n",
    "If an error occurs in a program, we don’t want the program to unexpectedly crash on the user. Instead, error handling can be used to notify the user of why the error occurred and gracefully exit the process that caused the error.Place the line of code that might cause an error in a try clause.\n",
    "\n",
    "#14. What is the purpose of the try clause? What is the purpose of the except clause?\n",
    "A try clause is executed up until the point where the first exception is encountered. Inside the except clause, or the exception handler, you determine how the program responds to the exception.The code that could potentially cause an error goes in the try clause.The code that executes if an error happens goes in the except clause.\n"
   ]
  }
 ],
 "metadata": {
  "kernelspec": {
   "display_name": "Python 3",
   "language": "python",
   "name": "python3"
  },
  "language_info": {
   "codemirror_mode": {
    "name": "ipython",
    "version": 3
   },
   "file_extension": ".py",
   "mimetype": "text/x-python",
   "name": "python",
   "nbconvert_exporter": "python",
   "pygments_lexer": "ipython3",
   "version": "3.8.5"
  }
 },
 "nbformat": 4,
 "nbformat_minor": 4
}
