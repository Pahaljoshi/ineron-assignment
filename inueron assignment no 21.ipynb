{
 "cells": [
  {
   "cell_type": "markdown",
   "metadata": {},
   "source": [
    "# Assignment no .21\n"
   ]
  },
  {
   "cell_type": "code",
   "execution_count": 1,
   "metadata": {},
   "outputs": [],
   "source": [
    "# 1. Add the current date to the text file today.txt as a string.\n",
    "from datetime import date\n",
    "now = date.today()\n",
    "now_str = now.isoformat()\n",
    "with open('today', 'wt') as output:\n",
    "    print(now_str, file=output)"
   ]
  },
  {
   "cell_type": "code",
   "execution_count": 2,
   "metadata": {},
   "outputs": [],
   "source": [
    "# 2. Read the text file today.txt into the string today_string\n",
    "with open('today', 'rt') as input:\n",
    "    today_string = input.read()\n",
    "    today_string"
   ]
  },
  {
   "cell_type": "code",
   "execution_count": 3,
   "metadata": {},
   "outputs": [
    {
     "data": {
      "text/plain": [
       "datetime.datetime(2021, 4, 24, 0, 0)"
      ]
     },
     "execution_count": 3,
     "metadata": {},
     "output_type": "execute_result"
    }
   ],
   "source": [
    "# 3. Parse the date from today_string.\n",
    "from datetime import datetime\n",
    "fmt = '%Y-%m-%d\\n'\n",
    "datetime.strptime(today_string, fmt)"
   ]
  },
  {
   "cell_type": "code",
   "execution_count": 4,
   "metadata": {},
   "outputs": [
    {
     "data": {
      "text/plain": [
       "['.ipynb_checkpoints',\n",
       " 'books.csv',\n",
       " 'books.db',\n",
       " 'ineuron assignment no .1.ipynb',\n",
       " 'ineuron assignment no .19.ipynb',\n",
       " 'ineuron assignment no 2.ipynb',\n",
       " 'inueron assignment no 10.ipynb',\n",
       " 'inueron assignment no 11.ipynb',\n",
       " 'inueron assignment no 12.ipynb',\n",
       " 'inueron assignment no 13.ipynb',\n",
       " 'inueron assignment no 14.ipynb',\n",
       " 'inueron assignment no 15.ipynb',\n",
       " 'inueron assignment no 16.ipynb',\n",
       " 'inueron assignment no 17.ipynb',\n",
       " 'inueron assignment no 18.ipynb',\n",
       " 'inueron assignment no 20.ipynb',\n",
       " 'inueron assignment no 21.ipynb',\n",
       " 'inueron assignment no 22.ipynb',\n",
       " 'inueron assignment no 23.ipynb',\n",
       " 'inueron assignment no 24.ipynb',\n",
       " 'inueron assignment no 25.ipynb',\n",
       " 'inueron assignment no 3.ipynb',\n",
       " 'inueron assignment no 4.ipynb',\n",
       " 'inueron assignment no 5.ipynb',\n",
       " 'inueron assignment no 6.ipynb',\n",
       " 'inueron assignment no 7.ipynb',\n",
       " 'inueron assignment no 8.ipynb',\n",
       " 'inueron assignment no 9.ipynb',\n",
       " 'test.csv',\n",
       " 'test.txt',\n",
       " 'today',\n",
       " 'zoo.py',\n",
       " '__pycache__']"
      ]
     },
     "execution_count": 4,
     "metadata": {},
     "output_type": "execute_result"
    }
   ],
   "source": [
    "# 4. List the files in your current directory\n",
    "import os\n",
    "os.listdir('.')"
   ]
  },
  {
   "cell_type": "code",
   "execution_count": 5,
   "metadata": {},
   "outputs": [
    {
     "data": {
      "text/plain": [
       "['1.Python Basic Assignment',\n",
       " '2.Python Advance Assignment',\n",
       " '3.Python programming Basic Assignment',\n",
       " '4.Python Advance Programming Assignment']"
      ]
     },
     "execution_count": 5,
     "metadata": {},
     "output_type": "execute_result"
    }
   ],
   "source": [
    "# 5. Create a list of all of the files in your parent directory (minimum five files should be available).\n",
    "import os\n",
    "os.listdir('..')"
   ]
  },
  {
   "cell_type": "code",
   "execution_count": 6,
   "metadata": {},
   "outputs": [],
   "source": [
    "# 6. Use multiprocessing to create three separate processes. Make each one wait a random number of seconds between one and five, print the current time, and then exit.\n",
    "import multiprocessing \n",
    "def now(seconds):\n",
    "    from datetime import datetime \n",
    "    \n",
    "    from time import sleep    \n",
    "    sleep(seconds)\n",
    "    print('wait', seconds, 'seconds, time is', datetime.utcnow())\n",
    "    if __name__ == '__main__':\n",
    "        import random \n",
    "        for n in range(3):\n",
    "            seconds = random.random()\n",
    "            proc = multiprocessing.Process(target=now, args=(seconds,))\n",
    "    proc.start()"
   ]
  },
  {
   "cell_type": "code",
   "execution_count": 7,
   "metadata": {},
   "outputs": [
    {
     "name": "stdout",
     "output_type": "stream",
     "text": [
      "wait 4 seconds, time is 2021-04-24 09:48:47.538679\n"
     ]
    }
   ],
   "source": [
    "now(4)"
   ]
  },
  {
   "cell_type": "code",
   "execution_count": 8,
   "metadata": {},
   "outputs": [
    {
     "data": {
      "text/plain": [
       "datetime.date(2000, 11, 6)"
      ]
     },
     "execution_count": 8,
     "metadata": {},
     "output_type": "execute_result"
    }
   ],
   "source": [
    "# 7. Create a date object of your day of birth.\n",
    "my_day = date(2000, 11, 6)\n",
    "my_day"
   ]
  },
  {
   "cell_type": "code",
   "execution_count": 9,
   "metadata": {},
   "outputs": [
    {
     "data": {
      "text/plain": [
       "1"
      ]
     },
     "execution_count": 9,
     "metadata": {},
     "output_type": "execute_result"
    }
   ],
   "source": [
    "# 8. What day of the week was your day of birth?\n",
    "my_day.weekday\n",
    "my_day.isoweekday()"
   ]
  },
  {
   "cell_type": "code",
   "execution_count": 10,
   "metadata": {},
   "outputs": [
    {
     "data": {
      "text/plain": [
       "datetime.date(2028, 3, 24)"
      ]
     },
     "execution_count": 10,
     "metadata": {},
     "output_type": "execute_result"
    }
   ],
   "source": [
    "# 9. When will you be (or when were you) 10,000 days old?\n",
    "from datetime import timedelta\n",
    "party_day = my_day + timedelta(days=10000)\n",
    "party_day"
   ]
  }
 ],
 "metadata": {
  "kernelspec": {
   "display_name": "Python 3",
   "language": "python",
   "name": "python3"
  },
  "language_info": {
   "codemirror_mode": {
    "name": "ipython",
    "version": 3
   },
   "file_extension": ".py",
   "mimetype": "text/x-python",
   "name": "python",
   "nbconvert_exporter": "python",
   "pygments_lexer": "ipython3",
   "version": "3.8.5"
  }
 },
 "nbformat": 4,
 "nbformat_minor": 4
}
